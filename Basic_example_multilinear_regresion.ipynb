{
 "cells": [
  {
   "cell_type": "markdown",
   "metadata": {},
   "source": [
    "# Import the packages"
   ]
  },
  {
   "cell_type": "code",
   "execution_count": 2,
   "metadata": {},
   "outputs": [],
   "source": [
    "import pandas as pd\n",
    "import statsmodels.formula.api as smf"
   ]
  },
  {
   "cell_type": "markdown",
   "metadata": {},
   "source": [
    "# Import the data"
   ]
  },
  {
   "cell_type": "code",
   "execution_count": 3,
   "metadata": {},
   "outputs": [],
   "source": [
    "full_health_data = pd.read_csv(\"data.csv\", header=0, sep=\",\")"
   ]
  },
  {
   "cell_type": "markdown",
   "metadata": {},
   "source": [
    "# Analyze the data"
   ]
  },
  {
   "cell_type": "code",
   "execution_count": 4,
   "metadata": {},
   "outputs": [
    {
     "name": "stdout",
     "output_type": "stream",
     "text": [
      "                            OLS Regression Results                            \n",
      "==============================================================================\n",
      "Dep. Variable:        Calorie_Burnage   R-squared:                       0.816\n",
      "Model:                            OLS   Adj. R-squared:                  0.814\n",
      "Method:                 Least Squares   F-statistic:                     355.8\n",
      "Date:                Wed, 29 Jan 2025   Prob (F-statistic):           1.27e-59\n",
      "Time:                        17:27:32   Log-Likelihood:                -1007.7\n",
      "No. Observations:                 163   AIC:                             2021.\n",
      "Df Residuals:                     160   BIC:                             2031.\n",
      "Df Model:                           2                                         \n",
      "Covariance Type:            nonrobust                                         \n",
      "=================================================================================\n",
      "                    coef    std err          t      P>|t|      [0.025      0.975]\n",
      "---------------------------------------------------------------------------------\n",
      "Intercept      -334.5194     73.616     -4.544      0.000    -479.904    -189.135\n",
      "Average_Pulse     3.1695      0.644      4.922      0.000       1.898       4.441\n",
      "Duration          5.8424      0.219     26.671      0.000       5.410       6.275\n",
      "==============================================================================\n",
      "Omnibus:                      160.167   Durbin-Watson:                   2.339\n",
      "Prob(Omnibus):                  0.000   Jarque-Bera (JB):             5096.292\n",
      "Skew:                           3.383   Prob(JB):                         0.00\n",
      "Kurtosis:                      29.544   Cond. No.                     1.02e+03\n",
      "==============================================================================\n",
      "\n",
      "Notes:\n",
      "[1] Standard Errors assume that the covariance matrix of the errors is correctly specified.\n",
      "[2] The condition number is large, 1.02e+03. This might indicate that there are\n",
      "strong multicollinearity or other numerical problems.\n"
     ]
    }
   ],
   "source": [
    "model = smf.ols('Calorie_Burnage ~ Average_Pulse + Duration', data = full_health_data)\n",
    "results = model.fit()\n",
    "print(results.summary()) "
   ]
  },
  {
   "cell_type": "markdown",
   "metadata": {},
   "source": [
    "# Define the multilinear regresion function"
   ]
  },
  {
   "cell_type": "code",
   "execution_count": 5,
   "metadata": {},
   "outputs": [],
   "source": [
    "def Predict_Calorie_Burnage(Average_Pulse, Duration):\n",
    " return(3.1695*Average_Pulse + 5.8434 * Duration - 334.5194)"
   ]
  },
  {
   "cell_type": "code",
   "execution_count": null,
   "metadata": {},
   "outputs": [],
   "source": []
  }
 ],
 "metadata": {
  "kernelspec": {
   "display_name": "example_env",
   "language": "python",
   "name": "python3"
  },
  "language_info": {
   "codemirror_mode": {
    "name": "ipython",
    "version": 3
   },
   "file_extension": ".py",
   "mimetype": "text/x-python",
   "name": "python",
   "nbconvert_exporter": "python",
   "pygments_lexer": "ipython3",
   "version": "3.13.1"
  }
 },
 "nbformat": 4,
 "nbformat_minor": 2
}
